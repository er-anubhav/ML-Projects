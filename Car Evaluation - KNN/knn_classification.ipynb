{
 "cells": [
  {
   "cell_type": "markdown",
   "id": "68fce841",
   "metadata": {},
   "source": [
    "\n",
    "# K-Nearest Neighbors (KNN) with scikit-learn\n",
    "\n",
    "**K-Nearest Neighbors (KNN)** algorithm \n",
    "to classify data using the **car evaluation dataset**. \n",
    "\n",
    "## Steps Involved:\n",
    "1. Import the necessary libraries\n",
    "2. Preprocess the data\n",
    "3. Split the data into train and test sets\n",
    "4. Train the KNN model\n",
    "5. Evaluate the model's performance\n",
    "6. Make predictions and analyze neighbors\n"
   ]
  },
  {
   "cell_type": "code",
   "execution_count": null,
   "id": "d5b53101",
   "metadata": {},
   "outputs": [],
   "source": [
    "\n",
    "# Step 1: Import necessary libraries\n",
    "import sklearn\n",
    "from sklearn.utils import shuffle\n",
    "from sklearn.neighbors import KNeighborsClassifier\n",
    "import pandas as pd\n",
    "import numpy as np\n",
    "from sklearn import linear_model, preprocessing\n"
   ]
  },
  {
   "cell_type": "markdown",
   "id": "31b7072e",
   "metadata": {},
   "source": [
    "\n",
    "## Step 2: Load the dataset\n",
    "\n",
    "We are using the **Car Evaluation Dataset**, which evaluates cars based on various attributes such as:\n",
    "- Buying Price (`buying`)\n",
    "- Maintenance Price (`maint`)\n",
    "- Number of Doors (`door`)\n",
    "- Capacity (`persons`)\n",
    "- Size of Luggage Boot (`lug_boot`)\n",
    "- Safety (`safety`)\n",
    "\n",
    "The **target column** is the car's acceptability (`class`), which can be one of:\n",
    "- `unacc` (unacceptable)\n",
    "- `acc` (acceptable)\n",
    "- `good` \n",
    "- `vgood` (very good)\n"
   ]
  },
  {
   "cell_type": "code",
   "execution_count": null,
   "id": "91d22da3",
   "metadata": {},
   "outputs": [],
   "source": [
    "\n",
    "# Load the dataset\n",
    "data = pd.read_csv(\"car.data\")\n",
    "print(data.head())  # Display first few rows of the dataset\n"
   ]
  },
  {
   "cell_type": "markdown",
   "id": "97ac026e",
   "metadata": {},
   "source": [
    "\n",
    "## Step 3: Data Preprocessing\n",
    "\n",
    "We need to **convert categorical data** into numerical values since machine learning algorithms \n",
    "work with numerical data. We use **Label Encoding** to transform the categorical columns into integers.\n"
   ]
  },
  {
   "cell_type": "code",
   "execution_count": null,
   "id": "38d58db8",
   "metadata": {},
   "outputs": [],
   "source": [
    "\n",
    "# Initialize LabelEncoder\n",
    "le = preprocessing.LabelEncoder()\n",
    "\n",
    "# Transform categorical data into numerical values\n",
    "buying = le.fit_transform(list(data[\"buying\"]))\n",
    "maint = le.fit_transform(list(data[\"maint\"]))\n",
    "door = le.fit_transform(list(data[\"door\"]))\n",
    "persons = le.fit_transform(list(data[\"persons\"]))\n",
    "lug_boot = le.fit_transform(list(data[\"lug_boot\"]))\n",
    "safety = le.fit_transform(list(data[\"safety\"]))\n",
    "cls = le.fit_transform(list(data[\"class\"]))\n"
   ]
  },
  {
   "cell_type": "markdown",
   "id": "2c66adc3",
   "metadata": {},
   "source": [
    "\n",
    "## Step 4: Prepare Data for Training\n",
    "\n",
    "We select the features (`X`) and the target (`y`). \n",
    "The features include attributes such as buying price, maintenance, etc., \n",
    "while the target is the car's acceptability class.\n"
   ]
  },
  {
   "cell_type": "code",
   "execution_count": null,
   "id": "1ee3b3dc",
   "metadata": {},
   "outputs": [],
   "source": [
    "\n",
    "# Select features (X) and target (y)\n",
    "X = list(zip(buying, maint, door, persons, lug_boot, safety))\n",
    "y = list(cls)\n"
   ]
  },
  {
   "cell_type": "markdown",
   "id": "0c68a571",
   "metadata": {},
   "source": [
    "\n",
    "## Step 5: Split the Data\n",
    "\n",
    "We split the data into **training** and **testing** sets using an 90-10 split. \n",
    "This ensures that the model is evaluated on data it has not seen before.\n"
   ]
  },
  {
   "cell_type": "code",
   "execution_count": null,
   "id": "c9d6d490",
   "metadata": {},
   "outputs": [],
   "source": [
    "\n",
    "# Split the data into training and testing sets\n",
    "x_train, x_test, y_train, y_test = sklearn.model_selection.train_test_split(X, y, test_size=0.1)\n"
   ]
  },
  {
   "cell_type": "markdown",
   "id": "007955ab",
   "metadata": {},
   "source": [
    "\n",
    "## Step 6: Train the KNN Model\n",
    "\n",
    "We initialize the **KNeighborsClassifier** with `k=9` (9 nearest neighbors) \n",
    "and train it on the training data.\n"
   ]
  },
  {
   "cell_type": "code",
   "execution_count": null,
   "id": "8ac51c6a",
   "metadata": {},
   "outputs": [],
   "source": [
    "\n",
    "# Initialize and train the KNN model\n",
    "model = KNeighborsClassifier(n_neighbors=9)\n",
    "model.fit(x_train, y_train)\n"
   ]
  },
  {
   "cell_type": "markdown",
   "id": "41c7606f",
   "metadata": {},
   "source": [
    "\n",
    "## Step 7: Evaluate the Model\n",
    "\n",
    "We calculate the **accuracy** of the model on the testing set to see how well it performs.\n"
   ]
  },
  {
   "cell_type": "code",
   "execution_count": null,
   "id": "6ae67610",
   "metadata": {},
   "outputs": [],
   "source": [
    "\n",
    "# Calculate accuracy of the model\n",
    "acc = model.score(x_test, y_test)\n",
    "print(\"Accuracy =\", acc)\n"
   ]
  },
  {
   "cell_type": "markdown",
   "id": "29b1c468",
   "metadata": {},
   "source": [
    "\n",
    "## Step 8: Make Predictions\n",
    "\n",
    "We use the trained model to make predictions on the test data and compare them with the actual labels.\n"
   ]
  },
  {
   "cell_type": "code",
   "execution_count": null,
   "id": "75c44082",
   "metadata": {},
   "outputs": [],
   "source": [
    "\n",
    "# Predict the class for test data\n",
    "predicted = model.predict(x_test)\n",
    "names = [\"unacc\", \"acc\", \"good\", \"vgood\"]\n",
    "\n",
    "# Display predictions along with actual values and nearest neighbors\n",
    "for i in range(len(predicted)):\n",
    "    print(f\"Predicted: {names[predicted[i]]}, Data: {x_test[i]}, Actual: {names[y_test[i]]}\")\n",
    "\n",
    "    # Get the 9 nearest neighbors\n",
    "    neighbors = model.kneighbors([x_test[i]], 9, True)\n",
    "    print(\"Neighbors:\", neighbors)\n"
   ]
  }
 ],
 "metadata": {
  "language_info": {
   "name": "python"
  }
 },
 "nbformat": 4,
 "nbformat_minor": 5
}
