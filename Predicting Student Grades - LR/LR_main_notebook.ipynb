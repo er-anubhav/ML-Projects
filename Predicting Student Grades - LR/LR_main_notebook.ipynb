{
 "cells": [
  {
   "cell_type": "markdown",
   "id": "960b493f",
   "metadata": {},
   "source": [
    "\n",
    "# Predicting Student Grades Using Linear Regression\n",
    "\n",
    "This notebook demonstrates how to build and evaluate a **linear regression model** using student performance data.\n",
    "The objective is to predict a student’s final grade (`G3`) based on several features such as previous grades, study time, and absences.\n",
    "\n",
    "---\n",
    "**Steps covered in this notebook:**\n",
    "1. Import necessary libraries.\n",
    "2. Load and explore the dataset.\n",
    "3. Select features and preprocess data.\n",
    "4. Train and evaluate the model.\n",
    "5. Visualize results.\n",
    "6. Save and reload the model using Pickle.\n"
   ]
  },
  {
   "cell_type": "code",
   "execution_count": null,
   "id": "4c7d1a0f",
   "metadata": {},
   "outputs": [],
   "source": [
    "\n",
    "# Import necessary libraries\n",
    "import pandas as pd\n",
    "import numpy as np\n",
    "import sklearn\n",
    "from sklearn import linear_model\n",
    "from sklearn.utils import shuffle\n",
    "import matplotlib.pyplot as plt\n",
    "import pickle\n",
    "from matplotlib import style\n"
   ]
  },
  {
   "cell_type": "markdown",
   "id": "ccf49df9",
   "metadata": {},
   "source": [
    "\n",
    "## Step 1: Load and Explore the Dataset\n",
    "\n",
    "We will use the `student-mat.csv` dataset, which contains information on students' academic performance.\n"
   ]
  },
  {
   "cell_type": "code",
   "execution_count": null,
   "id": "a16e51fd",
   "metadata": {},
   "outputs": [],
   "source": [
    "\n",
    "# Load the dataset\n",
    "data = pd.read_csv('student-mat.csv', sep=';')\n",
    "\n",
    "# Display the first few rows\n",
    "data.head()\n"
   ]
  },
  {
   "cell_type": "markdown",
   "id": "b63a8140",
   "metadata": {},
   "source": [
    "\n",
    "## Step 2: Feature Selection and Preprocessing\n",
    "\n",
    "We select relevant features (`G1`, `G2`, `studytime`, `failures`, `absences`) to predict the final grade (`G3`).\n"
   ]
  },
  {
   "cell_type": "code",
   "execution_count": null,
   "id": "1fdb9b30",
   "metadata": {},
   "outputs": [],
   "source": [
    "\n",
    "# Select relevant columns\n",
    "data = data[['G1', 'G2', 'G3', 'studytime', 'failures', 'absences']]\n",
    "\n",
    "# Define the target variable\n",
    "predict = 'G3'\n",
    "\n",
    "# Split data into features (X) and target (y)\n",
    "X = np.array(data.drop([predict], axis=1))\n",
    "y = np.array(data[predict])\n"
   ]
  },
  {
   "cell_type": "markdown",
   "id": "e786eeb5",
   "metadata": {},
   "source": [
    "\n",
    "## Step 3: Train/Test Split\n",
    "\n",
    "We split the dataset into training and testing sets with a test size of 10%.\n"
   ]
  },
  {
   "cell_type": "code",
   "execution_count": null,
   "id": "085e7a5c",
   "metadata": {},
   "outputs": [],
   "source": [
    "\n",
    "# Split the data into training and test sets\n",
    "x_train, x_test, y_train, y_test = sklearn.model_selection.train_test_split(X, y, test_size=0.1)\n"
   ]
  },
  {
   "cell_type": "markdown",
   "id": "8da7a263",
   "metadata": {},
   "source": [
    "\n",
    "## Step 4: Model Training\n",
    "\n",
    "We train a **linear regression model** on the training data.\n"
   ]
  },
  {
   "cell_type": "code",
   "execution_count": null,
   "id": "accebfa8",
   "metadata": {},
   "outputs": [],
   "source": [
    "\n",
    "# Create and train the linear regression model\n",
    "model = linear_model.LinearRegression()\n",
    "model.fit(x_train, y_train)\n",
    "\n",
    "# Print the accuracy on the test set\n",
    "accuracy = model.score(x_test, y_test)\n",
    "print(f'Accuracy: {accuracy:.2f}')\n"
   ]
  },
  {
   "cell_type": "markdown",
   "id": "13e3f461",
   "metadata": {},
   "source": [
    "\n",
    "## Step 5: Model Evaluation\n",
    "\n",
    "We evaluate the model's performance by printing the coefficients and intercept.\n"
   ]
  },
  {
   "cell_type": "code",
   "execution_count": null,
   "id": "ce80088c",
   "metadata": {},
   "outputs": [],
   "source": [
    "\n",
    "# Print the model's coefficients and intercept\n",
    "print('Coefficients:', model.coef_)\n",
    "print('Intercept:', model.intercept_)\n"
   ]
  },
  {
   "cell_type": "markdown",
   "id": "c229558d",
   "metadata": {},
   "source": [
    "\n",
    "## Step 6: Visualization\n",
    "\n",
    "We can visualize the relationship between predicted and actual values.\n"
   ]
  },
  {
   "cell_type": "code",
   "execution_count": null,
   "id": "1963094c",
   "metadata": {},
   "outputs": [],
   "source": [
    "\n",
    "# Plot predicted vs actual values\n",
    "style.use('ggplot')\n",
    "plt.scatter(y_test, model.predict(x_test))\n",
    "plt.xlabel('Actual Grades (G3)')\n",
    "plt.ylabel('Predicted Grades')\n",
    "plt.show()\n"
   ]
  },
  {
   "cell_type": "markdown",
   "id": "b362ea98",
   "metadata": {},
   "source": [
    "\n",
    "## Step 7: Saving and Reloading the Model\n",
    "\n",
    "We can use the **Pickle** library to save the model for future use.\n"
   ]
  },
  {
   "cell_type": "code",
   "execution_count": null,
   "id": "ff3bdbbc",
   "metadata": {},
   "outputs": [],
   "source": [
    "\n",
    "# Save the model\n",
    "with open('student_model.pickle', 'wb') as f:\n",
    "    pickle.dump(model, f)\n",
    "\n",
    "# Load the model\n",
    "with open('student_model.pickle', 'rb') as f:\n",
    "    loaded_model = pickle.load(f)\n",
    "\n",
    "# Verify the loaded model's accuracy\n",
    "print(f'Loaded Model Accuracy: {loaded_model.score(x_test, y_test):.2f}')\n"
   ]
  }
 ],
 "metadata": {},
 "nbformat": 4,
 "nbformat_minor": 5
}
